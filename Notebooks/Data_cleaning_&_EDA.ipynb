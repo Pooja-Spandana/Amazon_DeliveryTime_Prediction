{
 "cells": [
  {
   "cell_type": "markdown",
   "id": "b4ff5445",
   "metadata": {},
   "source": [
    "### <div align=\"center\">***DATA CLEANING AND EDA***</div>"
   ]
  },
  {
   "cell_type": "markdown",
   "id": "84556528",
   "metadata": {},
   "source": [
    "### ***Import libraries and modules***"
   ]
  },
  {
   "cell_type": "code",
   "execution_count": null,
   "id": "1decfe9e",
   "metadata": {},
   "outputs": [],
   "source": [
    "# Import required libraries\n",
    "import numpy as np\n",
    "import pandas as pd\n",
    "\n",
    "import seaborn as sns\n",
    "import plotly.express as px\n",
    "import matplotlib.pyplot as plt\n",
    "\n",
    "from datetime import datetime\n",
    "from geopy.distance import geodesic   \n",
    "from haversine import haversine, Unit\n",
    "\n",
    "from sklearn.model_selection import train_test_split\n",
    "from sklearn.preprocessing import LabelEncoder, StandardScaler\n",
    "from sklearn.impute import SimpleImputer\n",
    "\n",
    "# import warnings\n",
    "# warnings.filterwarnings('ignore')"
   ]
  },
  {
   "cell_type": "markdown",
   "id": "3d887483",
   "metadata": {},
   "source": [
    "### ***Data Loading and exploration***"
   ]
  },
  {
   "cell_type": "code",
   "execution_count": null,
   "id": "d7192e2a",
   "metadata": {},
   "outputs": [],
   "source": []
  }
 ],
 "metadata": {
  "kernelspec": {
   "display_name": ".venv",
   "language": "python",
   "name": "python3"
  },
  "language_info": {
   "name": "python",
   "version": "3.10.11"
  }
 },
 "nbformat": 4,
 "nbformat_minor": 5
}
